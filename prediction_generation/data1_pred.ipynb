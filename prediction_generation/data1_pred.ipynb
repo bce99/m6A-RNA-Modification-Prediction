{
 "cells": [
  {
   "cell_type": "code",
   "execution_count": null,
   "id": "dde598e1-7d23-4ac3-b60a-89b85a0e139b",
   "metadata": {},
   "outputs": [],
   "source": [
    "import pandas as pd\n",
    "import tensorflow as tf\n",
    "from tensorflow import keras\n",
    "from keras.models import load_model"
   ]
  },
  {
   "cell_type": "code",
   "execution_count": null,
   "id": "087e12c1-b269-41da-85f0-b2eb19c92be6",
   "metadata": {},
   "outputs": [],
   "source": [
    "# Load the model from the .h5 file\n",
    "model = load_model('model_NN_final.h5')"
   ]
  },
  {
   "cell_type": "code",
   "execution_count": null,
   "id": "a75cd7d9-ea75-4597-8208-0f449455e052",
   "metadata": {},
   "outputs": [],
   "source": [
    "file_path3 = 'data_parsing/Parsed_Data1.csv'\n",
    "# Load the CSV file into a DataFrame\n",
    "data1 = pd.read_csv(file_path3)"
   ]
  },
  {
   "cell_type": "code",
   "execution_count": null,
   "id": "a4189ccb-7d69-41b5-af0f-208b51438037",
   "metadata": {},
   "outputs": [],
   "source": [
    "# Apply the function to each row\n",
    "data1['specific_sequence'] = data1.apply(extract_specific_sequence, axis=1)\n",
    "\n",
    "\n",
    "data1['1st_pos'] = data1['specific_sequence'].apply(lambda x: x[0])\n",
    "data1['2nd_pos'] = data1['specific_sequence'].apply(lambda x: x[1])\n",
    "data1['3rd_pos'] = data1['specific_sequence'].apply(lambda x: x[2])\n",
    "data1['4th_pos'] = data1['specific_sequence'].apply(lambda x: x[3])\n",
    "data1['5th_pos'] = data1['specific_sequence'].apply(lambda x: x[4])"
   ]
  },
  {
   "cell_type": "code",
   "execution_count": null,
   "id": "01c583d4-d258-46da-93b5-b2009eaf7bf0",
   "metadata": {},
   "outputs": [],
   "source": [
    "seq_col = [col for col in data1.columns.tolist() if col.startswith('sequence_')]\n",
    "data1.drop(seq_col, axis=1, inplace=True)\n",
    "data1.drop('specific_sequence', axis=1, inplace=True)\n",
    "data1['1st_pos'] = data1['1st_pos'].astype('category')\n",
    "data1['2nd_pos'] = data1['2nd_pos'].astype('category')\n",
    "data1['3rd_pos'] = data1['3rd_pos'].astype('category')\n",
    "data1['4th_pos'] = data1['4th_pos'].astype('category')\n",
    "data1['5th_pos'] = data1['5th_pos'].astype('category')"
   ]
  },
  {
   "cell_type": "code",
   "execution_count": null,
   "id": "2cac0cf2-d766-47c4-b730-a046a88c91e0",
   "metadata": {},
   "outputs": [],
   "source": [
    "grouped_data1 = data1.groupby(\"transcript_id\")\n",
    "\n",
    "# Apply the standardization function to the \"0 mean\" column within each group\n",
    "data1[\"0 mean standardized\"] = grouped_data1[\"0 mean\"].transform(standardize_column_mean)\n",
    "data1[\"0 sd standardized\"] = grouped_data1[\"0 sd\"].transform(standardize_column_sd)\n",
    "data1[\"0 length standardized\"] = grouped_data1[\"0 length\"].transform(standardize_column_mean)"
   ]
  },
  {
   "cell_type": "code",
   "execution_count": null,
   "id": "41674fab-13af-421f-937a-9514d7d9f197",
   "metadata": {},
   "outputs": [],
   "source": [
    "final_predict_dataset1 = data1.drop(columns=['transcript_id','position','0 length', '0 sd', '0 mean', '0 min', '0 max'])\n",
    "\n",
    "# Perform one-hot encoding for categorical columns\n",
    "final_predict_dataset1 = pd.get_dummies(final_predict_dataset1, columns=['1st_pos', '2nd_pos', '3rd_pos', '4th_pos', '5th_pos'])\n"
   ]
  },
  {
   "cell_type": "code",
   "execution_count": null,
   "id": "3554b564-6795-4fe8-a592-30c49385c2c8",
   "metadata": {},
   "outputs": [],
   "source": [
    "transcript1 = data1[['transcript_id','position']]\n",
    "data1_pred_prob = model.predict(final_predict_dataset1)"
   ]
  },
  {
   "cell_type": "code",
   "execution_count": null,
   "id": "86f8385b-0794-4614-8dd5-ef78379d59fe",
   "metadata": {},
   "outputs": [],
   "source": [
    "data1_pred_p = pd.DataFrame(pd.DataFrame(data1_pred_prob))\n",
    "data1_pred_p.columns = ['score']\n",
    "result_data1 = pd.merge(transcript1, data1_pred_p, left_index=True, right_index=True, how='inner')\n",
    "agg_functions = {'score': 'max'}\n",
    "\n",
    "result_data1 = result_data1.groupby(['transcript_id', 'position']).agg(agg_functions).reset_index()"
   ]
  },
  {
   "cell_type": "code",
   "execution_count": null,
   "id": "8ddeac0c-64ba-45a1-93b3-ce1fa5933264",
   "metadata": {},
   "outputs": [],
   "source": [
    "result_data1.to_csv('prediction_generation/Final_Data1_Result.csv', index=False)"
   ]
  }
 ],
 "metadata": {
  "environment": {
   "kernel": "python3",
   "name": "common-cpu.m106",
   "type": "gcloud",
   "uri": "gcr.io/deeplearning-platform-release/base-cpu:m106"
  },
  "kernelspec": {
   "display_name": "Python 3",
   "language": "python",
   "name": "python3"
  },
  "language_info": {
   "codemirror_mode": {
    "name": "ipython",
    "version": 3
   },
   "file_extension": ".py",
   "mimetype": "text/x-python",
   "name": "python",
   "nbconvert_exporter": "python",
   "pygments_lexer": "ipython3",
   "version": "3.7.12"
  }
 },
 "nbformat": 4,
 "nbformat_minor": 5
}
