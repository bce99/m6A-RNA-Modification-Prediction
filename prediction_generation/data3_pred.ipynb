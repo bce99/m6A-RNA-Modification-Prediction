{
 "cells": [
  {
   "cell_type": "code",
   "execution_count": null,
   "id": "c68a3328-6d56-485a-9a19-ea132f976848",
   "metadata": {},
   "outputs": [],
   "source": [
    "import pandas as pd\n",
    "import tensorflow as tf\n",
    "from tensorflow import keras\n",
    "from keras.models import load_model"
   ]
  },
  {
   "cell_type": "code",
   "execution_count": null,
   "id": "e3f10af0-522b-4d78-a14f-53f266ad2f0c",
   "metadata": {},
   "outputs": [],
   "source": [
    "# Load the model from the .h5 file\n",
    "model = load_model('model_NN_final.h5')"
   ]
  },
  {
   "cell_type": "code",
   "execution_count": null,
   "id": "66a0ba0a-1380-48ce-807d-016894287d5f",
   "metadata": {},
   "outputs": [],
   "source": [
    "file_path5 = 'data_parsing/Parsed_Data3.csv'\n",
    "data3 = pd.read_csv(file_path5)"
   ]
  },
  {
   "cell_type": "code",
   "execution_count": null,
   "id": "278d6ed6-a917-4f86-8303-d5d2cade5fce",
   "metadata": {},
   "outputs": [],
   "source": [
    "# Apply the function to each row\n",
    "data3['specific_sequence'] = data3.apply(extract_specific_sequence, axis=1)\n",
    "\n",
    "\n",
    "data3['1st_pos'] = data3['specific_sequence'].apply(lambda x: x[0])\n",
    "data3['2nd_pos'] = data3['specific_sequence'].apply(lambda x: x[1])\n",
    "data3['3rd_pos'] = data3['specific_sequence'].apply(lambda x: x[2])\n",
    "data3['4th_pos'] = data3['specific_sequence'].apply(lambda x: x[3])\n",
    "data3['5th_pos'] = data3['specific_sequence'].apply(lambda x: x[4])\n",
    "\n",
    "data3.head()"
   ]
  },
  {
   "cell_type": "code",
   "execution_count": null,
   "id": "26d716cb-8577-4727-bcb0-ab5e3ad635eb",
   "metadata": {},
   "outputs": [],
   "source": [
    "seq_col = [col for col in data3.columns.tolist() if col.startswith('sequence_')]\n",
    "data3.drop(seq_col, axis=1, inplace=True)\n",
    "data3.drop('specific_sequence', axis=1, inplace=True)\n",
    "data3['1st_pos'] = data3['1st_pos'].astype('category')\n",
    "data3['2nd_pos'] = data3['2nd_pos'].astype('category')\n",
    "data3['3rd_pos'] = data3['3rd_pos'].astype('category')\n",
    "data3['4th_pos'] = data3['4th_pos'].astype('category')\n",
    "data3['5th_pos'] = data3['5th_pos'].astype('category')"
   ]
  },
  {
   "cell_type": "code",
   "execution_count": null,
   "id": "07c9375e-f74c-4eab-b919-0ed9a5c1c633",
   "metadata": {},
   "outputs": [],
   "source": [
    "grouped_data3 = data3.groupby(\"transcript_id\")\n",
    "\n",
    "# Apply the standardization function to the \"0 mean\" column within each group\n",
    "data3[\"0 mean standardized\"] = grouped_data3[\"0 mean\"].transform(standardize_column_mean)\n",
    "data3[\"0 sd standardized\"] = grouped_data3[\"0 sd\"].transform(standardize_column_sd)\n",
    "data3[\"0 length standardized\"] = grouped_data3[\"0 length\"].transform(standardize_column_mean)"
   ]
  },
  {
   "cell_type": "code",
   "execution_count": null,
   "id": "d29c5661-0e70-4a68-9bf1-156eb11ee8c3",
   "metadata": {},
   "outputs": [],
   "source": [
    "final_predict_dataset3 = data3.drop(columns=['transcript_id','position','0 length', '0 sd', '0 mean', '0 min', '0 max'])\n",
    "\n",
    "# Perform one-hot encoding for categorical columns\n",
    "final_predict_dataset3 = pd.get_dummies(final_predict_dataset3, columns=['1st_pos', '2nd_pos', '3rd_pos', '4th_pos', '5th_pos'])\n"
   ]
  },
  {
   "cell_type": "code",
   "execution_count": null,
   "id": "9ba2a836-b78a-4654-b7b3-5705e5a7ee19",
   "metadata": {},
   "outputs": [],
   "source": [
    "transcript3 = data3[['transcript_id','position']]\n",
    "data3_pred_prob = model.predict(final_predict_dataset3)"
   ]
  },
  {
   "cell_type": "code",
   "execution_count": null,
   "id": "d730a6e4-499d-4415-bcfc-a1f40dcf90ed",
   "metadata": {},
   "outputs": [],
   "source": [
    "data3_pred_p = pd.DataFrame(pd.DataFrame(data3_pred_prob))\n",
    "data3_pred_p.columns = ['Score']\n",
    "result_data3 = pd.merge(transcript3, data3_pred_p, left_index=True, right_index=True, how='inner')\n",
    "agg_functions = {'Score': 'mean'}\n",
    "\n",
    "result_data3 = result_data3.groupby(['transcript_id', 'position']).agg(agg_functions).reset_index()"
   ]
  },
  {
   "cell_type": "code",
   "execution_count": null,
   "id": "c0a8353e-6500-4246-8590-e4fe15d23d85",
   "metadata": {},
   "outputs": [],
   "source": [
    "result_data3.to_csv('prediction_generation/Final_Data3_Result.csv', index=False)"
   ]
  }
 ],
 "metadata": {
  "environment": {
   "kernel": "python3",
   "name": "common-cpu.m106",
   "type": "gcloud",
   "uri": "gcr.io/deeplearning-platform-release/base-cpu:m106"
  },
  "kernelspec": {
   "display_name": "Python 3",
   "language": "python",
   "name": "python3"
  },
  "language_info": {
   "codemirror_mode": {
    "name": "ipython",
    "version": 3
   },
   "file_extension": ".py",
   "mimetype": "text/x-python",
   "name": "python",
   "nbconvert_exporter": "python",
   "pygments_lexer": "ipython3",
   "version": "3.7.12"
  }
 },
 "nbformat": 4,
 "nbformat_minor": 5
}
