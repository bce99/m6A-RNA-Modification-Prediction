{
 "cells": [
  {
   "cell_type": "code",
   "execution_count": null,
   "id": "d81a6e28-3668-4ecb-a08c-5c5a51de83e8",
   "metadata": {},
   "outputs": [],
   "source": [
    "import pandas as pd\n",
    "import tensorflow as tf\n",
    "from tensorflow import keras\n",
    "from keras.models import load_model"
   ]
  },
  {
   "cell_type": "code",
   "execution_count": null,
   "id": "0d90df80-6e3d-4be3-be1a-582e51fb8076",
   "metadata": {},
   "outputs": [],
   "source": [
    "# Load the model from the .h5 file\n",
    "model = load_model('model_NN_final.h5')"
   ]
  },
  {
   "cell_type": "code",
   "execution_count": null,
   "id": "513ee48a-731c-4f58-acad-7c3a63fe4650",
   "metadata": {},
   "outputs": [],
   "source": [
    "file_path4 = 'data_parsing/Parsed_Data2.csv'\n",
    "data2 = pd.read_csv(file_path4)"
   ]
  },
  {
   "cell_type": "code",
   "execution_count": null,
   "id": "4f13650e-5781-422c-8e26-7bdb1f9b1faf",
   "metadata": {},
   "outputs": [],
   "source": [
    "# Apply the function to each row\n",
    "data2['specific_sequence'] = data2.apply(extract_specific_sequence, axis=1)\n",
    "\n",
    "\n",
    "data2['1st_pos'] = data2['specific_sequence'].apply(lambda x: x[0])\n",
    "data2['2nd_pos'] = data2['specific_sequence'].apply(lambda x: x[1])\n",
    "data2['3rd_pos'] = data2['specific_sequence'].apply(lambda x: x[2])\n",
    "data2['4th_pos'] = data2['specific_sequence'].apply(lambda x: x[3])\n",
    "data2['5th_pos'] = data2['specific_sequence'].apply(lambda x: x[4])"
   ]
  },
  {
   "cell_type": "code",
   "execution_count": null,
   "id": "8f46c257-0578-475e-9cb9-4e513fdba91e",
   "metadata": {},
   "outputs": [],
   "source": [
    "seq_col = [col for col in data2.columns.tolist() if col.startswith('sequence_')]\n",
    "data2.drop(seq_col, axis=1, inplace=True)\n",
    "data2.drop('specific_sequence', axis=1, inplace=True)\n",
    "data2['1st_pos'] = data2['1st_pos'].astype('category')\n",
    "data2['2nd_pos'] = data2['2nd_pos'].astype('category')\n",
    "data2['3rd_pos'] = data2['3rd_pos'].astype('category')\n",
    "data2['4th_pos'] = data2['4th_pos'].astype('category')\n",
    "data2['5th_pos'] = data2['5th_pos'].astype('category')"
   ]
  },
  {
   "cell_type": "code",
   "execution_count": null,
   "id": "21ca2462-d6ed-4cc4-935c-cc3ca836ae76",
   "metadata": {},
   "outputs": [],
   "source": [
    "grouped_data2 = data2.groupby(\"transcript_id\")\n",
    "\n",
    "# Apply the standardization function to the \"0 mean\" column within each group\n",
    "data2[\"0 mean standardized\"] = grouped_data2[\"0 mean\"].transform(standardize_column_mean)\n",
    "data2[\"0 sd standardized\"] = grouped_data2[\"0 sd\"].transform(standardize_column_sd)\n",
    "data2[\"0 length standardized\"] = grouped_data2[\"0 length\"].transform(standardize_column_mean)"
   ]
  },
  {
   "cell_type": "code",
   "execution_count": null,
   "id": "c7b505cc-cddb-4202-b206-019ee45d4f03",
   "metadata": {},
   "outputs": [],
   "source": [
    "final_predict_dataset2 = data2.drop(columns=['transcript_id','position','0 length', '0 sd', '0 mean', '0 min', '0 max'])\n",
    "\n",
    "# Perform one-hot encoding for categorical columns\n",
    "final_predict_dataset2 = pd.get_dummies(final_predict_dataset2, columns=['1st_pos', '2nd_pos', '3rd_pos', '4th_pos', '5th_pos'])\n"
   ]
  },
  {
   "cell_type": "code",
   "execution_count": null,
   "id": "5d05b85e-8697-454f-9920-08abea6068ec",
   "metadata": {},
   "outputs": [],
   "source": [
    "transcript2 = data2[['transcript_id','position']]\n",
    "data2_pred_prob = model.predict(final_predict_dataset2)"
   ]
  },
  {
   "cell_type": "code",
   "execution_count": null,
   "id": "06c09a3a-9577-4d6d-9050-26ba9a767a9c",
   "metadata": {},
   "outputs": [],
   "source": [
    "data2_pred_p = pd.DataFrame(pd.DataFrame(data2_pred_prob))\n",
    "data2_pred_p.columns = ['score']\n",
    "result_data2 = pd.merge(transcript2, data2_pred_p, left_index=True, right_index=True, how='inner')\n",
    "agg_functions = {'score': 'mean'}\n",
    "\n",
    "result_data2 = result_data2.groupby(['transcript_id', 'position']).agg(agg_functions).reset_index()"
   ]
  },
  {
   "cell_type": "code",
   "execution_count": null,
   "id": "3f50a7ea-818b-4ee0-9028-71f88cb504a1",
   "metadata": {},
   "outputs": [],
   "source": [
    "result_data2.to_csv('prediction_generation/Final_Data2_Result.csv', index=False)"
   ]
  }
 ],
 "metadata": {
  "environment": {
   "kernel": "python3",
   "name": "common-cpu.m106",
   "type": "gcloud",
   "uri": "gcr.io/deeplearning-platform-release/base-cpu:m106"
  },
  "kernelspec": {
   "display_name": "Python 3",
   "language": "python",
   "name": "python3"
  },
  "language_info": {
   "codemirror_mode": {
    "name": "ipython",
    "version": 3
   },
   "file_extension": ".py",
   "mimetype": "text/x-python",
   "name": "python",
   "nbconvert_exporter": "python",
   "pygments_lexer": "ipython3",
   "version": "3.7.12"
  }
 },
 "nbformat": 4,
 "nbformat_minor": 5
}
